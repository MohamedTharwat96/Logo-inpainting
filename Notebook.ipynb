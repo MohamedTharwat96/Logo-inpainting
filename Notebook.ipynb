{
  "cells": [
    {
      "cell_type": "markdown",
      "source": [
        "# Objective\n",
        "*   Remove the logo in the national ID and replace it with the color of the background.\n",
        "\n",
        ""
      ],
      "metadata": {
        "id": "5xBTsdX-UADl"
      }
    },
    {
      "cell_type": "markdown",
      "source": [
        "# Approach\n",
        "*   Utilize the SIFT algorithm for feature extraction.\n",
        "*   Use the FLANN algorithm for features matching to capture the logo area.\n",
        "*   Set a bounding box surronds the area.\n",
        "*   Fill the bounding box area using opencv's inpainting tool.\n"
      ],
      "metadata": {
        "id": "M5ZT6KZJU3kh"
      }
    },
    {
      "cell_type": "markdown",
      "source": [
        "# Install required libraries"
      ],
      "metadata": {
        "id": "PVtthnWDV8Lq"
      }
    },
    {
      "cell_type": "code",
      "source": [
        "!pip install numpy\n",
        "!pip install opencv-python\n",
        "!pip install matplotlib"
      ],
      "metadata": {
        "id": "mT6ihWetWJni"
      },
      "execution_count": null,
      "outputs": []
    },
    {
      "cell_type": "markdown",
      "source": [
        "# Import libraries"
      ],
      "metadata": {
        "id": "4lRsAXHIQ5NU"
      }
    },
    {
      "cell_type": "code",
      "source": [
        "import numpy as np\n",
        "import cv2 as cv\n",
        "from matplotlib import pyplot as plt\n",
        "import os"
      ],
      "metadata": {
        "id": "QaVwCiTcZIkW"
      },
      "execution_count": 2,
      "outputs": []
    },
    {
      "cell_type": "markdown",
      "source": [
        "# Function implementation"
      ],
      "metadata": {
        "id": "VbKOUNTlmVbf"
      }
    },
    {
      "cell_type": "code",
      "source": [
        "def inpaint_image(input_image_path, output_image_path): # Function takes the input image path and the output image path\n",
        "\n",
        "    # Set constants and paths\n",
        "    MIN_MATCH_COUNT = 10  #Set feature matches threshold\n",
        "    reference_image_path = 'ref.png'  # Path to the reference image\n",
        "\n",
        "    # Load the reference and onput image in color and grayscale\n",
        "    ref_img = cv.imread(reference_image_path)  # Read reference image\n",
        "    ref_img_gray = cv.cvtColor(ref_img, cv.COLOR_BGR2GRAY)  # Convert reference image to grayscale\n",
        "    input_img = cv.imread(input_image_path)  # Read input image\n",
        "    input_img_gray = cv.cvtColor(input_img, cv.COLOR_BGR2GRAY)  # Convert input image to grayscale\n",
        "\n",
        "    # Initiate SIFT detector\n",
        "    sift = cv.SIFT_create()\n",
        "\n",
        "    # Find the keypoints and descriptors with SIFT for the reference and input image\n",
        "    kp_ref, des_ref = sift.detectAndCompute(ref_img_gray, None)\n",
        "    kp_input, des_input = sift.detectAndCompute(input_img_gray, None)\n",
        "\n",
        "    # Set FLANN algorithm parameters and intiate it\n",
        "    FLANN_INDEX_KDTREE = 1\n",
        "    index_params = dict(algorithm=FLANN_INDEX_KDTREE, trees=5) # Use KDTREE algorithm\n",
        "    search_params = dict(checks=50)\n",
        "    flann = cv.FlannBasedMatcher(index_params, search_params)  # Initiate FLANN matcher\n",
        "\n",
        "    # Match descriptors\n",
        "    matches = flann.knnMatch(des_ref, des_input, k=2)  # Use KNN matcher\n",
        "\n",
        "    # Store all the good matches using Lowe's Ratio Test\n",
        "    good = []\n",
        "    acc = 0.80  #required accuracy\n",
        "    for m, n in matches:\n",
        "        if m.distance < acc * n.distance:\n",
        "            good.append(m)\n",
        "\n",
        "    # Compute homography\n",
        "    if len(good) > MIN_MATCH_COUNT:  # Check for suffecient matches\n",
        "        src_pts = np.float32([kp_ref[m.queryIdx].pt for m in good]).reshape(-1, 1, 2)\n",
        "        dst_pts = np.float32([kp_input[m.trainIdx].pt for m in good]).reshape(-1, 1, 2)\n",
        "        M, mask = cv.findHomography(src_pts, dst_pts, cv.RANSAC, 5.0)  #Use RANSAC\n",
        "        matchesMask = mask.ravel().tolist()\n",
        "\n",
        "        # Transform bounding box\n",
        "        h, w = ref_img_gray.shape\n",
        "        pts = np.float32([[0, 0], [0, h-1], [w-1, h-1], [w-1, 0]]).reshape(-1, 1, 2)\n",
        "        dst = np.int32(cv.perspectiveTransform(pts, M)) # Bounding box coordinates\n",
        "\n",
        "        # Choosing color for inpainting\n",
        "        x_min = dst[:, 0, 0].min()\n",
        "        x_max = dst[:, 0, 0].max()\n",
        "        y_center = int((dst[:, 0, 1].min()/2) + (dst[:, 0, 1].max()/2))\n",
        "        left_color = input_img[y_center, x_min]  # Get color at the left of the box\n",
        "        right_color = input_img[y_center, x_max]  # Get color at the right of the box\n",
        "        avg_color = np.uint8((left_color/2) + (right_color/2))  # Calculate the average color\n",
        "\n",
        "        # Create a mask for inpainting\n",
        "        inpaint_mask = np.zeros(input_img.shape[:2], dtype=np.uint8)\n",
        "        cv.fillPoly(inpaint_mask, [dst], 255)\n",
        "\n",
        "        # Fill the bounding box\n",
        "        inpainted_img = cv.inpaint(input_img, inpaint_mask, 3, cv.INPAINT_TELEA)\n",
        "        filled_img = inpainted_img.copy()\n",
        "        filled_img[inpaint_mask == 255] = avg_color\n",
        "\n",
        "        # Save the output image\n",
        "        cv.imwrite(output_image_path, filled_img)\n",
        "\n",
        "    else:\n",
        "        print(\"Not enough matches are found - {}/{}\".format(len(good), MIN_MATCH_COUNT))\n"
      ],
      "metadata": {
        "id": "ejzLP1jxkaFe"
      },
      "execution_count": 8,
      "outputs": []
    },
    {
      "cell_type": "markdown",
      "source": [
        "# Folder extraction"
      ],
      "metadata": {
        "id": "aNNXzi3XP7ci"
      }
    },
    {
      "cell_type": "code",
      "source": [
        "!unzip input.zip"
      ],
      "metadata": {
        "colab": {
          "base_uri": "https://localhost:8080/"
        },
        "id": "M78_kdk6PyxE",
        "outputId": "9c56bc44-2811-4966-94f7-c0e3572a5629"
      },
      "execution_count": 1,
      "outputs": [
        {
          "output_type": "stream",
          "name": "stdout",
          "text": [
            "Archive:  input.zip\n",
            "   creating: input/\n",
            "  inflating: input/15.jpg            \n",
            "  inflating: input/2.jpg             \n",
            "  inflating: input/21.jpg            \n",
            "  inflating: input/44.jpg            \n",
            "  inflating: input/48.jpg            \n",
            "  inflating: input/51.jpg            \n",
            "  inflating: input/52.jpg            \n",
            "  inflating: input/55.jpg            \n",
            "  inflating: input/9.jpg             \n"
          ]
        }
      ]
    },
    {
      "cell_type": "markdown",
      "source": [
        "# Test cases"
      ],
      "metadata": {
        "id": "TQkieMMpP_Lc"
      }
    },
    {
      "cell_type": "code",
      "source": [
        "# Set folders paths\n",
        "input_folder = 'input'\n",
        "output_folder = 'output'\n",
        "\n",
        "# Ensure the output folder exists\n",
        "if not os.path.exists(output_folder):\n",
        "    os.makedirs(output_folder)\n",
        "\n",
        "# Loop through all images in the input folder\n",
        "formats = ('.jpeg', '.jpg', '.png')\n",
        "for filename in os.listdir(input_folder):\n",
        "    if filename.endswith(formats):\n",
        "        input_image_path = os.path.join(input_folder, filename)\n",
        "        output_image_path = os.path.join(output_folder, filename)\n",
        "        inpaint_image(input_image_path, output_image_path)\n"
      ],
      "metadata": {
        "id": "gW257jkGPz6u"
      },
      "execution_count": 13,
      "outputs": []
    }
  ],
  "metadata": {
    "accelerator": "GPU",
    "colab": {
      "gpuType": "T4",
      "provenance": []
    },
    "kernelspec": {
      "display_name": "Python 3",
      "name": "python3"
    },
    "language_info": {
      "name": "python"
    }
  },
  "nbformat": 4,
  "nbformat_minor": 0
}